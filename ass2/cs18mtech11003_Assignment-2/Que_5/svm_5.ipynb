{
 "cells": [
  {
   "cell_type": "code",
   "execution_count": 1,
   "metadata": {},
   "outputs": [],
   "source": [
    "#importing the library\n",
    "import numpy as np\n",
    "from sklearn.svm import SVC \n",
    "from sklearn.metrics import accuracy_score\n",
    "#loading the train data and its labels\n",
    "data = np.genfromtxt('/home/sneha/Desktop/gisette_train.data')\n",
    "data_labels=np.genfromtxt('/home/sneha/Desktop/gisette_train.labels')\n",
    "\n",
    "#loading the validation data and its labels\n",
    "valid_data = np.genfromtxt('/home/sneha/Desktop/gisette_valid.data')\n",
    "valid_data_labels=np.genfromtxt('/home/sneha/Desktop/gisette_valid.labels')"
   ]
  },
  {
   "cell_type": "code",
   "execution_count": 2,
   "metadata": {},
   "outputs": [],
   "source": [
    "#a_part\n",
    "#Fitting the train data and its corresponding labels into the model\n",
    "clf=SVC(random_state=0,kernel='linear',gamma='auto')\n",
    "model=clf.fit(data,data_labels)"
   ]
  },
  {
   "cell_type": "code",
   "execution_count": 4,
   "metadata": {},
   "outputs": [
    {
     "name": "stdout",
     "output_type": "stream",
     "text": [
      "('Training_error ', 0.0)\n",
      "('Test_error ', 0.02400000000000002)\n",
      "[542 542]\n"
     ]
    }
   ],
   "source": [
    "#Training error\n",
    "data_pred=model.predict(data)\n",
    "print('Training_error ',1-accuracy_score(data_labels, data_pred))\n",
    "\n",
    "#Test error\n",
    "valid_data_pred=model.predict(valid_data)\n",
    "print('Test_error ',1-accuracy_score(valid_data_labels, valid_data_pred))\n",
    "\n",
    "#Num_of_support_vectors\n",
    "print(model.n_support_)"
   ]
  },
  {
   "cell_type": "code",
   "execution_count": 5,
   "metadata": {},
   "outputs": [
    {
     "name": "stdout",
     "output_type": "stream",
     "text": [
      "for rbf kernal\n",
      "('rbf_training_error ', 0.0)\n",
      "('rbf_test_error ', 0.506)\n",
      "[3000 3000]\n",
      "for polynomial kernal\n",
      "('polynomial_training_error ', 0.0)\n",
      "('polynomial_test_error ', 0.019000000000000017)\n",
      "[817 938]\n"
     ]
    }
   ],
   "source": [
    "#B_part\n",
    "\n",
    "#rbf kernal\n",
    "print('for rbf kernal')\n",
    "#Training error\n",
    "model_rbf=SVC(random_state=0,kernel='rbf',gamma=0.001).fit(data,data_labels)\n",
    "data_pred=model_rbf.predict(data)\n",
    "print('rbf_training_error ',1-accuracy_score(data_labels, data_pred))\n",
    "#Testing error\n",
    "y_pred=model_rbf.predict(valid_data)\n",
    "print('rbf_test_error ',1-accuracy_score(valid_data_pred, y_pred))\n",
    "#Number of support vectors\n",
    "print(model_rbf.n_support_)\n",
    "\n",
    "#polynomial kernal\n",
    "print('for polynomial kernal')\n",
    "model_poly=SVC(random_state=0,kernel='poly',degree=2,coef0=1).fit(data,data_labels)\n",
    "#Trainning error\n",
    "data_pred=model_poly.predict(data)\n",
    "print('polynomial_training_error ',1-accuracy_score(data_labels, data_pred))\n",
    "#Testing error\n",
    "y_pred=model_poly.predict(valid_data)\n",
    "print('polynomial_test_error ',1-accuracy_score(valid_data_pred, y_pred))\n",
    "#Number of support vectors\n",
    "print(model_poly.n_support_)\n",
    "\n",
    "\n"
   ]
  },
  {
   "cell_type": "code",
   "execution_count": 7,
   "metadata": {},
   "outputs": [
    {
     "name": "stdout",
     "output_type": "stream",
     "text": [
      "for rbf kernal after preprocessing\n",
      "('rbf_training_error ', 0.0)\n",
      "('rbf_test_error ', 0.15200000000000002)\n",
      "[2999 3000]\n"
     ]
    }
   ],
   "source": [
    "#After preprosesing of data using sckit learn for increasing the accuracy\n",
    "#rbf kernal\n",
    "from sklearn.preprocessing import StandardScaler\n",
    "scaler = StandardScaler()\n",
    "data_train=scaler.fit_transform(data)\n",
    "data_test=scaler.transform(valid_data)\n",
    "print('for rbf kernal after preprocessing')\n",
    "#Training error\n",
    "model_rbf=SVC(random_state=0,kernel='rbf',gamma=0.001).fit(data_train,data_labels)\n",
    "data_pred=model_rbf.predict(data_train)\n",
    "print('rbf_training_error ',1-accuracy_score(data_labels, data_pred))\n",
    "#Testing error\n",
    "y_pred=model_rbf.predict(data_test)\n",
    "print('rbf_test_error ',1-accuracy_score(valid_data_pred, y_pred))\n",
    "#Number of support vectors\n",
    "print(model_rbf.n_support_)\n"
   ]
  },
  {
   "cell_type": "code",
   "execution_count": null,
   "metadata": {},
   "outputs": [],
   "source": []
  }
 ],
 "metadata": {
  "kernelspec": {
   "display_name": "Python 2",
   "language": "python",
   "name": "python2"
  },
  "language_info": {
   "codemirror_mode": {
    "name": "ipython",
    "version": 2
   },
   "file_extension": ".py",
   "mimetype": "text/x-python",
   "name": "python",
   "nbconvert_exporter": "python",
   "pygments_lexer": "ipython2",
   "version": "2.7.15"
  }
 },
 "nbformat": 4,
 "nbformat_minor": 2
}
