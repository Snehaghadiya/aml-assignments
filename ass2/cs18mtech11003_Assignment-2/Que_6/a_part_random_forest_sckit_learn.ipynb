{
 "cells": [
  {
   "cell_type": "code",
   "execution_count": 30,
   "metadata": {},
   "outputs": [
    {
     "name": "stdout",
     "output_type": "stream",
     "text": [
      "('Acuuracy ', 0.9492753623188406)\n",
      "('Time_taken', 0.9043011665344238)\n"
     ]
    }
   ],
   "source": [
    "#importing the libraries\n",
    "import time\n",
    "start = time.time()\n",
    "import csv\n",
    "import numpy as np\n",
    "from sklearn.ensemble import RandomForestClassifier\n",
    "from sklearn.metrics import accuracy_score\n",
    "\n",
    "#Converting the text dataset to csv\n",
    "txt_file = \"/home/sneha/Desktop/spam.txt\"\n",
    "csv_file = \"/home/sneha/Desktop/spam.csv\"\n",
    "in_txt = csv.reader(open(txt_file, \"rb\"), delimiter = ' ')\n",
    "out_csv = csv.writer(open(csv_file, 'wb'))\n",
    "out_csv.writerows(in_txt)\n",
    "\n",
    "#Reading the csv data\n",
    "data = np.genfromtxt ('/home/sneha/Desktop/spam.csv', delimiter=\",\")\n",
    "np.random.shuffle(data)\n",
    "\n",
    "#Dividing the data into test and train ,here test data=30 percent\n",
    "a=int(data.shape[0]*30/100)\n",
    "test_set_data=data[:a][:,:-1]\n",
    "test_set_label=data[:a][:,-1]\n",
    "training_set_data=data[a:][:,:-1]\n",
    "training_set_label=data[a:][:,-1]\n",
    "\n",
    "#Fiting the train data and its labels into random forest classifier\n",
    "clf = RandomForestClassifier(n_estimators=30, max_depth=200,random_state=0,max_features=15)\n",
    "clf.fit(training_set_data, training_set_label)\n",
    "\n",
    "#Predicting the test data\n",
    "data_pred=clf.predict(test_set_data)\n",
    "print('Acuuracy ',accuracy_score(test_set_label, data_pred))\n",
    "\n",
    "#Printing the total execution time\n",
    "end = time.time()\n",
    "print('Time_taken',end - start)\n"
   ]
  },
  {
   "cell_type": "code",
   "execution_count": null,
   "metadata": {},
   "outputs": [],
   "source": []
  }
 ],
 "metadata": {
  "kernelspec": {
   "display_name": "Python 2",
   "language": "python",
   "name": "python2"
  },
  "language_info": {
   "codemirror_mode": {
    "name": "ipython",
    "version": 2
   },
   "file_extension": ".py",
   "mimetype": "text/x-python",
   "name": "python",
   "nbconvert_exporter": "python",
   "pygments_lexer": "ipython2",
   "version": "2.7.15"
  }
 },
 "nbformat": 4,
 "nbformat_minor": 2
}
